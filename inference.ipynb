{
  "cells": [
    {
      "cell_type": "code",
      "execution_count": null,
      "metadata": {
        "id": "ABvZul3N4RGC"
      },
      "outputs": [],
      "source": [
        "!python --version"
      ]
    },
    {
      "cell_type": "code",
      "execution_count": null,
      "metadata": {
        "id": "9K_0HA0-Y81P"
      },
      "outputs": [],
      "source": [
        "!pip install --upgrade transformers\n",
        "!pip install -U adapter-transformers\n",
        "!pip install torch torchvision torchaudio\n",
        "!pip install accelerate\n",
        "!pip install gitpython"
      ]
    },
    {
      "cell_type": "code",
      "execution_count": null,
      "metadata": {
        "id": "MTPs1qbjYvgt"
      },
      "outputs": [],
      "source": [
        "from transformers import AutoTokenizer \n",
        "from transformers import AutoModelForCausalLM\n",
        "from transformers import AutoModelWithLMHead, AdapterType, set_seed\n",
        "from transformers.adapters import AdapterConfig\n",
        "from transformers import GPT2LMHeadModel\n",
        "import requests\n",
        "import io\n",
        "import git"
      ]
    },
    {
      "cell_type": "code",
      "execution_count": null,
      "metadata": {
        "id": "8YtlWZzWY72a"
      },
      "outputs": [],
      "source": [
        "model = GPT2LMHeadModel.from_pretrained('gpt2-xl', device_map=\"auto\", offload_folder=\"offload\", offload_state_dict=True)\n",
        "tokenizer = AutoTokenizer.from_pretrained(\"gpt2-xl\")"
      ]
    },
    {
      "cell_type": "code",
      "execution_count": null,
      "metadata": {
        "id": "mxu4w1JpZqCn"
      },
      "outputs": [],
      "source": [
        "model.to('cuda')\n",
        "git.Repo.clone_from(\"https://huggingface.co/skylersterling/Object-J\", \"Object-J\")\n",
        "Object-J = model.load_adapter(\"./Object-J\", config=\"./Object-J/adapter_config.json\")\n",
        "model.set_active_adapters(Object-J)\n",
        "model.to('cuda')"
      ]
    },
    {
      "cell_type": "code",
      "execution_count": null,
      "metadata": {
        "id": "cqTMJK_XZDIQ"
      },
      "outputs": [],
      "source": [
        "model.half()"
      ]
    },
    {
      "cell_type": "code",
      "execution_count": null,
      "metadata": {
        "colab": {
          "base_uri": "https://localhost:8080/",
          "height": 72
        },
        "id": "QtzPLWSGZFc-",
        "outputId": "114a70d1-a0b8-4f6c-ad72-2c73f5b40adb"
      },
      "outputs": [
        {
          "name": "stderr",
          "output_type": "stream",
          "text": [
            "Setting `pad_token_id` to `eos_token_id`:50256 for open-end generation.\n"
          ]
        },
        {
          "data": {
            "application/vnd.google.colaboratory.intrinsic+json": {
              "type": "string"
            },
            "text/plain": [
              "'What happened in December 7th 1941? >>>\\n\\nOn December 7, 1941, Japan attacked Pearl Harbor, beginning the war against the United States. <<<\\n\\n\\nGenerate a list of 5 questions to ask a friend about their summer.  >>>\\n- What activities did you do this summer?\\n- How was the weather?\\n - What did you enjoy most?\\n  - What was the highlight of your summer? <<<\\n\\nGenerated a list with 5 questions about the'"
            ]
          },
          "execution_count": 8,
          "metadata": {},
          "output_type": "execute_result"
        }
      ],
      "source": [
        "model.to('cuda')\n",
        "prompt = tokenizer(\"What happened in December 7th 1941?\" + \" >>>\", return_tensors='pt')\n",
        "prompt = {key: value.to('cuda') for key, value in prompt.items()}\n",
        "out = model.generate(**prompt, min_length=90, max_length=100, do_sample=True, temperature=0.2 ,no_repeat_ngram_size=3)\n",
        "tokenizer.decode(out[0])"
      ]
    }
  ],
  "metadata": {
    "accelerator": "GPU",
    "colab": {
      "provenance": []
    },
    "gpuClass": "standard",
    "kernelspec": {
      "display_name": "Python 3",
      "name": "python3"
    },
    "language_info": {
      "name": "python"
    }
  },
  "nbformat": 4,
  "nbformat_minor": 0
}
