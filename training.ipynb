{
 "cells": [
  {
   "cell_type": "code",
   "execution_count": null,
   "id": "dba97348",
   "metadata": {},
   "outputs": [],
   "source": [
    "!pip install --quiet transformers datasets accelerate nvidia-ml-py3\n",
    "!pip install -U adapter-transformers"
   ]
  },
  {
   "cell_type": "code",
   "execution_count": null,
   "id": "ce9c4473",
   "metadata": {},
   "outputs": [],
   "source": [
    "from transformers import AutoTokenizer \n",
    "from transformers import TrainingArguments, AutoModelWithLMHead\n",
    "from transformers import AutoModelForCausalLM\n",
    "from transformers import AutoConfig\n",
    "\n",
    "config = AutoConfig.from_pretrained(\"gpt2-xl\")\n",
    "model = AutoModelForCausalLM.from_pretrained(\"gpt2-xl\")\n",
    "tokenizer = AutoTokenizer.from_pretrained(\"gpt2-xl\")"
   ]
  },
  {
   "cell_type": "code",
   "execution_count": 2,
   "id": "4722900d",
   "metadata": {},
   "outputs": [],
   "source": [
    "train_path = './YourDatasetHere.txt'"
   ]
  },
  {
   "cell_type": "code",
   "execution_count": null,
   "id": "c1d4d146",
   "metadata": {},
   "outputs": [],
   "source": [
    "model.half()"
   ]
  },
  {
   "cell_type": "code",
   "execution_count": null,
   "id": "1e38eb88",
   "metadata": {},
   "outputs": [],
   "source": [
    "from transformers import TextDataset, DataCollatorForLanguageModeling\n",
    "\n",
    "def load_dataset(train_path, tokenizer):\n",
    "    train_dataset = TextDataset(\n",
    "          tokenizer=tokenizer,\n",
    "          file_path=train_path,\n",
    "          block_size=100\n",
    "          )\n",
    "          \n",
    "    data_collator = DataCollatorForLanguageModeling(\n",
    "        tokenizer=tokenizer, mlm=False,\n",
    "    )\n",
    "    return train_dataset, data_collator\n",
    "\n",
    "train_dataset, data_collator = load_dataset(train_path, tokenizer)"
   ]
  },
  {
   "cell_type": "code",
   "execution_count": null,
   "id": "f5819462",
   "metadata": {},
   "outputs": [],
   "source": [
    "from transformers import AdapterType, AdapterConfig, AdapterTrainer\n",
    "\n",
    "# Define the adapter configuration with increased number of parameters\n",
    "adapter_config = AdapterConfig(\n",
    "    mh_adapter=True,\n",
    "    output_adapter=True,\n",
    "    reduction_factor=3, #Any positive value will have a greater amount of parameters than 0\n",
    "    non_linearity='swish',\n",
    "    phm_dim=100,\n",
    "    phm_layer=False,\n",
    ")\n",
    "\n",
    "\n",
    "adapter = model.add_adapter(\"Object-J\", config=adapter_config)\n",
    "\n",
    "# Activate the adapter\n",
    "adapter = model.train_adapter(\"Object-J\")"
   ]
  },
  {
   "cell_type": "code",
   "execution_count": null,
   "id": "a6950ad0",
   "metadata": {},
   "outputs": [],
   "source": [
    "training_args = TrainingArguments(\n",
    "    output_dir=\"./Object-JClass\",\n",
    "    overwrite_output_dir=True,\n",
    "    num_train_epochs=1,\n",
    "    per_device_train_batch_size=1,\n",
    "    save_total_limit=40,         \n",
    "    gradient_accumulation_steps=1,\n",
    "    gradient_checkpointing=False,    #set the gradient_checkpointing=True, to recude vram usage\n",
    "    save_steps=30000,\n",
    "    prediction_loss_only=True,\n",
    "    optim=\"adafactor\",       \n",
    "    logging_steps=150,\n",
    ")"
   ]
  },
  {
   "cell_type": "code",
   "execution_count": null,
   "id": "a040c991",
   "metadata": {},
   "outputs": [],
   "source": [
    "trainer = AdapterTrainer(\n",
    "        model=model,\n",
    "        args=training_args,\n",
    "        tokenizer=tokenizer,\n",
    "        train_dataset=train_dataset,\n",
    "        data_collator=data_collator, \n",
    "    )"
   ]
  },
  {
   "attachments": {},
   "cell_type": "markdown",
   "id": "87b6fe9b",
   "metadata": {},
   "source": [
    "# !nvidia-smi"
   ]
  },
  {
   "cell_type": "code",
   "execution_count": null,
   "id": "2b6e8087",
   "metadata": {},
   "outputs": [],
   "source": [
    "trainer.train()"
   ]
  },
  {
   "cell_type": "code",
   "execution_count": null,
   "id": "cea22dbf",
   "metadata": {},
   "outputs": [],
   "source": [
    "trainer.save_model()\n",
    "model.save_adapter(\"Object-J_adapter\", \"Object-J\")"
   ]
  },
  {
   "cell_type": "code",
   "execution_count": null,
   "id": "80b79595",
   "metadata": {},
   "outputs": [],
   "source": [
    "model.to('cuda')\n",
    "prompt = tokenizer(\"How does gravity affect earth's shape?\" + \" >>>\", return_tensors='pt')\n",
    "prompt = {key: value.to('cuda') for key, value in prompt.items()}\n",
    "out = model.generate(**prompt, min_length=90, max_length=200, temperature=0.3 ,no_repeat_ngram_size=3, do_sample=True)\n",
    "tokenizer.decode(out[0])"
   ]
  },
  {
   "attachments": {},
   "cell_type": "markdown",
   "id": "7fad18b0",
   "metadata": {},
   "source": [
    "The End"
   ]
  }
 ],
 "metadata": {
  "kernelspec": {
   "display_name": "Transformers",
   "language": "python",
   "name": "transformers"
  },
  "language_info": {
   "codemirror_mode": {
    "name": "ipython",
    "version": 3
   },
   "file_extension": ".py",
   "mimetype": "text/x-python",
   "name": "python",
   "nbconvert_exporter": "python",
   "pygments_lexer": "ipython3",
   "version": "3.10.9"
  }
 },
 "nbformat": 4,
 "nbformat_minor": 5
}
